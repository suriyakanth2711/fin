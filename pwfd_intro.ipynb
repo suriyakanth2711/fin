{
  "nbformat": 4,
  "nbformat_minor": 0,
  "metadata": {
    "colab": {
      "name": "pwfd_intro.ipynb",
      "provenance": [],
      "authorship_tag": "ABX9TyN8yUQMao9Y9Dl3z5ijXxzG",
      "include_colab_link": true
    },
    "kernelspec": {
      "name": "python3",
      "display_name": "Python 3"
    },
    "language_info": {
      "name": "python"
    }
  },
  "cells": [
    {
      "cell_type": "markdown",
      "metadata": {
        "id": "view-in-github",
        "colab_type": "text"
      },
      "source": [
        "<a href=\"https://colab.research.google.com/github/suriyakanth2711/fin/blob/main/pwfd_intro.ipynb\" target=\"_parent\"><img src=\"https://colab.research.google.com/assets/colab-badge.svg\" alt=\"Open In Colab\"/></a>"
      ]
    },
    {
      "cell_type": "code",
      "metadata": {
        "id": "pQfAU071hRmz",
        "colab": {
          "base_uri": "https://localhost:8080/"
        },
        "outputId": "a1e070a5-f565-4bfe-e918-bdeb37541be5"
      },
      "source": [
        "!pip install yfinance"
      ],
      "execution_count": null,
      "outputs": [
        {
          "output_type": "stream",
          "text": [
            "Collecting yfinance\n",
            "  Downloading https://files.pythonhosted.org/packages/79/bd/d64719da8f5367f4d8b16e83507fa1d90942f433f748a4cf3ed7aa515d14/yfinance-0.1.63.tar.gz\n",
            "Requirement already satisfied: pandas>=0.24 in /usr/local/lib/python3.7/dist-packages (from yfinance) (1.1.5)\n",
            "Requirement already satisfied: numpy>=1.15 in /usr/local/lib/python3.7/dist-packages (from yfinance) (1.19.5)\n",
            "Requirement already satisfied: requests>=2.20 in /usr/local/lib/python3.7/dist-packages (from yfinance) (2.23.0)\n",
            "Requirement already satisfied: multitasking>=0.0.7 in /usr/local/lib/python3.7/dist-packages (from yfinance) (0.0.9)\n",
            "Collecting lxml>=4.5.1\n",
            "\u001b[?25l  Downloading https://files.pythonhosted.org/packages/30/c0/d0526314971fc661b083ab135747dc68446a3022686da8c16d25fcf6ef07/lxml-4.6.3-cp37-cp37m-manylinux2014_x86_64.whl (6.3MB)\n",
            "\u001b[K     |████████████████████████████████| 6.3MB 32.3MB/s \n",
            "\u001b[?25hRequirement already satisfied: pytz>=2017.2 in /usr/local/lib/python3.7/dist-packages (from pandas>=0.24->yfinance) (2018.9)\n",
            "Requirement already satisfied: python-dateutil>=2.7.3 in /usr/local/lib/python3.7/dist-packages (from pandas>=0.24->yfinance) (2.8.1)\n",
            "Requirement already satisfied: idna<3,>=2.5 in /usr/local/lib/python3.7/dist-packages (from requests>=2.20->yfinance) (2.10)\n",
            "Requirement already satisfied: chardet<4,>=3.0.2 in /usr/local/lib/python3.7/dist-packages (from requests>=2.20->yfinance) (3.0.4)\n",
            "Requirement already satisfied: certifi>=2017.4.17 in /usr/local/lib/python3.7/dist-packages (from requests>=2.20->yfinance) (2021.5.30)\n",
            "Requirement already satisfied: urllib3!=1.25.0,!=1.25.1,<1.26,>=1.21.1 in /usr/local/lib/python3.7/dist-packages (from requests>=2.20->yfinance) (1.24.3)\n",
            "Requirement already satisfied: six>=1.5 in /usr/local/lib/python3.7/dist-packages (from python-dateutil>=2.7.3->pandas>=0.24->yfinance) (1.15.0)\n",
            "Building wheels for collected packages: yfinance\n",
            "  Building wheel for yfinance (setup.py) ... \u001b[?25l\u001b[?25hdone\n",
            "  Created wheel for yfinance: filename=yfinance-0.1.63-py2.py3-none-any.whl size=23919 sha256=c1237f8d4f15ed7f4a3bed060725e379996f433846da9110d924f64088455fc2\n",
            "  Stored in directory: /root/.cache/pip/wheels/fe/a0/79/b73d4a0c535b421b88fc7b393936b371fabbfeaf979eca4050\n",
            "Successfully built yfinance\n"
          ],
          "name": "stdout"
        }
      ]
    },
    {
      "cell_type": "code",
      "metadata": {
        "id": "eXadjdOvhMO1"
      },
      "source": [
        "import yfinance as yf\n",
        "import pandas as pd\n",
        "import numpy as np\n",
        "import matplotlib.pyplot as plt"
      ],
      "execution_count": null,
      "outputs": []
    },
    {
      "cell_type": "code",
      "metadata": {
        "id": "GuAOsdXD3WDb"
      },
      "source": [
        "#download data from yahoo finance\n",
        "import yfinance as yf\n",
        "df = yf.download('GOOGL',start='2010-10-10',end='2020-2-20',progress=False, actions='inline')\n",
        "\n",
        "df.head()"
      ],
      "execution_count": null,
      "outputs": []
    },
    {
      "cell_type": "code",
      "metadata": {
        "id": "GYjier9_3bJW"
      },
      "source": [
        "df = df.loc[:,['Adj Close']]\n",
        "df.rename(columns = {'Adj Close':'adj_close'},inplace = True)\n",
        "\n",
        "df['simple_rtn'] = df.adj_close.pct_change() #simple return\n",
        "df['log_rtn'] = np.log(df.adj_close/df.adj_close.shift(1)) #log return\n",
        "\n",
        "df.head()"
      ],
      "execution_count": null,
      "outputs": []
    },
    {
      "cell_type": "code",
      "metadata": {
        "id": "bfCEoqsi3fxb"
      },
      "source": [
        "#historical volatility\n",
        "def realized_volatility(x):\n",
        "    return np.sqrt(np.sum(x**2))\n",
        "\n",
        "df_rv = df.groupby(pd.Grouper(freq='M')).apply(realized_volatility)\n",
        "df_rv.rename(columns={'log_rtn': 'rv'}, inplace=True)\n",
        "\n",
        "df_rv.rv = df_rv.rv * np.sqrt(12)\n",
        "df_rv.head()"
      ],
      "execution_count": null,
      "outputs": []
    },
    {
      "cell_type": "code",
      "metadata": {
        "id": "Yhkm5jS_3kmQ"
      },
      "source": [
        "df_rv.rv.plot(figsize=(17,3))"
      ],
      "execution_count": null,
      "outputs": []
    },
    {
      "cell_type": "code",
      "metadata": {
        "id": "5djb7o5W3tSg"
      },
      "source": [
        "fig, ax = plt.subplots(3, 1, figsize=(17, 10), sharex=True)\n",
        "df.adj_close.plot(ax=ax[0])\n",
        "ax[0].set(title = 'GOOGL time series', ylabel = 'Stock price ($)')\n",
        "df.simple_rtn.plot(ax=ax[1])\n",
        "ax[1].set(ylabel = 'Simple returns (%)')\n",
        "df.log_rtn.plot(ax=ax[2])\n",
        "ax[2].set(xlabel = 'Date',ylabel = 'Log returns (%)')"
      ],
      "execution_count": null,
      "outputs": []
    },
    {
      "cell_type": "code",
      "metadata": {
        "id": "Z_cuoQVr3yQd"
      },
      "source": [
        "#Calculate moving average and moving standard deviation\n",
        "df_rolling = df[['simple_rtn']].rolling(window=21).agg(['mean', 'std'])\n",
        "\n",
        "df_rolling.columns = df_rolling.columns.droplevel()\n",
        "\n",
        "df_outliers = df.join(df_rolling)"
      ],
      "execution_count": null,
      "outputs": []
    },
    {
      "cell_type": "code",
      "metadata": {
        "id": "9DPpsebv32x3"
      },
      "source": [
        "def indentify_outliers(row, n_sigmas=3):\n",
        "     x = row['simple_rtn']\n",
        "     mu = row['mean']\n",
        "     sigma = row['std']\n",
        "     if (x > mu + 3 * sigma) | (x < mu - 3 * sigma):\n",
        "         return 1\n",
        "     else:\n",
        "         return 0\n",
        "        \n",
        "df_outliers['outlier'] = df_outliers.apply(indentify_outliers,axis=1)\n",
        "outliers = df_outliers.loc[df_outliers['outlier'] == 1,['simple_rtn']]"
      ],
      "execution_count": null,
      "outputs": []
    },
    {
      "cell_type": "code",
      "metadata": {
        "id": "6UrxxCmu35Cd"
      },
      "source": [
        "fig, ax = plt.subplots(figsize=(17,5))\n",
        "ax.plot(df_outliers.index, df_outliers.simple_rtn, color='black', label='Normal')\n",
        "ax.scatter(outliers.index, outliers.simple_rtn, color='red', label='Anomaly')\n",
        "ax.set_title(\"Google's stock returns\")\n",
        "ax.legend(loc='upper right')"
      ],
      "execution_count": null,
      "outputs": []
    }
  ]
}